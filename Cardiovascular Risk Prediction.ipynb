{
 "cells": [
  {
   "cell_type": "markdown",
   "id": "d3d80e83-7c02-4a1b-a8cc-b6ad27517b88",
   "metadata": {
    "jp-MarkdownHeadingCollapsed": true,
    "tags": []
   },
   "source": [
    "# Project Name - Cardiovascular Risk Prediction"
   ]
  },
  {
   "cell_type": "markdown",
   "id": "b7965e49-48e8-41f9-acf1-fafba80b521a",
   "metadata": {},
   "source": [
    "- Project Type - Cardiovascular Risk Prediction\n",
    "- Contribution - Group\n",
    "- Team Member 1 - Vipil Khapre\n",
    "- Team Member 2 - Pranay Kuthe"
   ]
  },
  {
   "cell_type": "markdown",
   "id": "beb84544-f3da-4d7a-8f89-2d36d47a97b8",
   "metadata": {
    "jp-MarkdownHeadingCollapsed": true,
    "tags": []
   },
   "source": [
    "# GitHub Link "
   ]
  },
  {
   "cell_type": "code",
   "execution_count": null,
   "id": "b4a521a2-f88f-426c-89d8-46e50982a3b9",
   "metadata": {},
   "outputs": [],
   "source": []
  },
  {
   "cell_type": "markdown",
   "id": "6376f0a2-45b0-4193-a141-58b3287e9829",
   "metadata": {
    "jp-MarkdownHeadingCollapsed": true,
    "tags": []
   },
   "source": [
    "# Problem Statement (Data Set Information)"
   ]
  },
  {
   "cell_type": "markdown",
   "id": "296df3e9-e4be-4c46-9ea8-9d8008372a2a",
   "metadata": {},
   "source": [
    "The dataset is from an ongoing cardiovascular study on residents of the town of\n",
    "Framingham, Massachusetts. The classification goal is to predict whether the\n",
    "patient has a 10-year risk of future coronary heart disease (CHD). The dataset\n",
    "provides the patients’ information. It includes over 4,000 records and 15\n",
    "attributes. Each attribute is a potential risk factor. There are both demographic,\n",
    "behavioral, and medical risk factors.\n"
   ]
  },
  {
   "cell_type": "markdown",
   "id": "03017dcb-fbbe-4e3a-a33b-e4b764daa40c",
   "metadata": {},
   "source": [
    "# Let's Begin !"
   ]
  },
  {
   "cell_type": "markdown",
   "id": "5d200a3b-2383-4241-831c-6d4edd1d4437",
   "metadata": {},
   "source": [
    "## ***1. Know Your Data***"
   ]
  },
  {
   "cell_type": "markdown",
   "id": "3435ea88-e61c-41d1-81eb-abe0c1ff847f",
   "metadata": {
    "jp-MarkdownHeadingCollapsed": true,
    "tags": []
   },
   "source": [
    "### Import Libraries"
   ]
  },
  {
   "cell_type": "code",
   "execution_count": 10,
   "id": "1a011c44-f523-4df1-80a9-9cebc6d83644",
   "metadata": {},
   "outputs": [],
   "source": [
    "# Import Libraries\n",
    "import pandas as pd\n",
    "import numpy as np\n",
    "import matplotlib.pyplot as plt\n",
    "import seaborn as sns\n",
    "from datetime import datetime\n",
    "from datetime import date\n",
    "%matplotlib inline\n",
    "\n",
    "import warnings\n",
    "warnings.filterwarnings('ignore')"
   ]
  },
  {
   "cell_type": "markdown",
   "id": "4b70ed71-29a7-4a6c-b7c2-49663345bf68",
   "metadata": {
    "tags": []
   },
   "source": [
    "### Dataset Loading"
   ]
  },
  {
   "cell_type": "code",
   "execution_count": 12,
   "id": "4022b20e-8a88-407c-8800-49df0b39f87b",
   "metadata": {},
   "outputs": [],
   "source": [
    "df = pd.read_csv('data_cardiovascular_risk.csv',index_col = \"id\")"
   ]
  },
  {
   "cell_type": "markdown",
   "id": "1615e0fc-f2e4-4152-a12d-a767afba4525",
   "metadata": {
    "tags": []
   },
   "source": [
    "### Dataset First and last View"
   ]
  },
  {
   "cell_type": "code",
   "execution_count": 14,
   "id": "ca62db3e-667c-49a7-acc6-8a398beffced",
   "metadata": {},
   "outputs": [
    {
     "data": {
      "text/html": [
       "<div>\n",
       "<style scoped>\n",
       "    .dataframe tbody tr th:only-of-type {\n",
       "        vertical-align: middle;\n",
       "    }\n",
       "\n",
       "    .dataframe tbody tr th {\n",
       "        vertical-align: top;\n",
       "    }\n",
       "\n",
       "    .dataframe thead th {\n",
       "        text-align: right;\n",
       "    }\n",
       "</style>\n",
       "<table border=\"1\" class=\"dataframe\">\n",
       "  <thead>\n",
       "    <tr style=\"text-align: right;\">\n",
       "      <th></th>\n",
       "      <th>age</th>\n",
       "      <th>education</th>\n",
       "      <th>sex</th>\n",
       "      <th>is_smoking</th>\n",
       "      <th>cigsPerDay</th>\n",
       "      <th>BPMeds</th>\n",
       "      <th>prevalentStroke</th>\n",
       "      <th>prevalentHyp</th>\n",
       "      <th>diabetes</th>\n",
       "      <th>totChol</th>\n",
       "      <th>sysBP</th>\n",
       "      <th>diaBP</th>\n",
       "      <th>BMI</th>\n",
       "      <th>heartRate</th>\n",
       "      <th>glucose</th>\n",
       "      <th>TenYearCHD</th>\n",
       "    </tr>\n",
       "    <tr>\n",
       "      <th>id</th>\n",
       "      <th></th>\n",
       "      <th></th>\n",
       "      <th></th>\n",
       "      <th></th>\n",
       "      <th></th>\n",
       "      <th></th>\n",
       "      <th></th>\n",
       "      <th></th>\n",
       "      <th></th>\n",
       "      <th></th>\n",
       "      <th></th>\n",
       "      <th></th>\n",
       "      <th></th>\n",
       "      <th></th>\n",
       "      <th></th>\n",
       "      <th></th>\n",
       "    </tr>\n",
       "  </thead>\n",
       "  <tbody>\n",
       "    <tr>\n",
       "      <th>0</th>\n",
       "      <td>64</td>\n",
       "      <td>2.0</td>\n",
       "      <td>F</td>\n",
       "      <td>YES</td>\n",
       "      <td>3.0</td>\n",
       "      <td>0.0</td>\n",
       "      <td>0</td>\n",
       "      <td>0</td>\n",
       "      <td>0</td>\n",
       "      <td>221.0</td>\n",
       "      <td>148.0</td>\n",
       "      <td>85.0</td>\n",
       "      <td>NaN</td>\n",
       "      <td>90.0</td>\n",
       "      <td>80.0</td>\n",
       "      <td>1</td>\n",
       "    </tr>\n",
       "    <tr>\n",
       "      <th>1</th>\n",
       "      <td>36</td>\n",
       "      <td>4.0</td>\n",
       "      <td>M</td>\n",
       "      <td>NO</td>\n",
       "      <td>0.0</td>\n",
       "      <td>0.0</td>\n",
       "      <td>0</td>\n",
       "      <td>1</td>\n",
       "      <td>0</td>\n",
       "      <td>212.0</td>\n",
       "      <td>168.0</td>\n",
       "      <td>98.0</td>\n",
       "      <td>29.77</td>\n",
       "      <td>72.0</td>\n",
       "      <td>75.0</td>\n",
       "      <td>0</td>\n",
       "    </tr>\n",
       "    <tr>\n",
       "      <th>2</th>\n",
       "      <td>46</td>\n",
       "      <td>1.0</td>\n",
       "      <td>F</td>\n",
       "      <td>YES</td>\n",
       "      <td>10.0</td>\n",
       "      <td>0.0</td>\n",
       "      <td>0</td>\n",
       "      <td>0</td>\n",
       "      <td>0</td>\n",
       "      <td>250.0</td>\n",
       "      <td>116.0</td>\n",
       "      <td>71.0</td>\n",
       "      <td>20.35</td>\n",
       "      <td>88.0</td>\n",
       "      <td>94.0</td>\n",
       "      <td>0</td>\n",
       "    </tr>\n",
       "    <tr>\n",
       "      <th>3</th>\n",
       "      <td>50</td>\n",
       "      <td>1.0</td>\n",
       "      <td>M</td>\n",
       "      <td>YES</td>\n",
       "      <td>20.0</td>\n",
       "      <td>0.0</td>\n",
       "      <td>0</td>\n",
       "      <td>1</td>\n",
       "      <td>0</td>\n",
       "      <td>233.0</td>\n",
       "      <td>158.0</td>\n",
       "      <td>88.0</td>\n",
       "      <td>28.26</td>\n",
       "      <td>68.0</td>\n",
       "      <td>94.0</td>\n",
       "      <td>1</td>\n",
       "    </tr>\n",
       "    <tr>\n",
       "      <th>4</th>\n",
       "      <td>64</td>\n",
       "      <td>1.0</td>\n",
       "      <td>F</td>\n",
       "      <td>YES</td>\n",
       "      <td>30.0</td>\n",
       "      <td>0.0</td>\n",
       "      <td>0</td>\n",
       "      <td>0</td>\n",
       "      <td>0</td>\n",
       "      <td>241.0</td>\n",
       "      <td>136.5</td>\n",
       "      <td>85.0</td>\n",
       "      <td>26.42</td>\n",
       "      <td>70.0</td>\n",
       "      <td>77.0</td>\n",
       "      <td>0</td>\n",
       "    </tr>\n",
       "  </tbody>\n",
       "</table>\n",
       "</div>"
      ],
      "text/plain": [
       "    age  education sex is_smoking  cigsPerDay  BPMeds  prevalentStroke  \\\n",
       "id                                                                       \n",
       "0    64        2.0   F        YES         3.0     0.0                0   \n",
       "1    36        4.0   M         NO         0.0     0.0                0   \n",
       "2    46        1.0   F        YES        10.0     0.0                0   \n",
       "3    50        1.0   M        YES        20.0     0.0                0   \n",
       "4    64        1.0   F        YES        30.0     0.0                0   \n",
       "\n",
       "    prevalentHyp  diabetes  totChol  sysBP  diaBP    BMI  heartRate  glucose  \\\n",
       "id                                                                             \n",
       "0              0         0    221.0  148.0   85.0    NaN       90.0     80.0   \n",
       "1              1         0    212.0  168.0   98.0  29.77       72.0     75.0   \n",
       "2              0         0    250.0  116.0   71.0  20.35       88.0     94.0   \n",
       "3              1         0    233.0  158.0   88.0  28.26       68.0     94.0   \n",
       "4              0         0    241.0  136.5   85.0  26.42       70.0     77.0   \n",
       "\n",
       "    TenYearCHD  \n",
       "id              \n",
       "0            1  \n",
       "1            0  \n",
       "2            0  \n",
       "3            1  \n",
       "4            0  "
      ]
     },
     "execution_count": 14,
     "metadata": {},
     "output_type": "execute_result"
    }
   ],
   "source": [
    "# Dataset first \n",
    "df.head()"
   ]
  },
  {
   "cell_type": "code",
   "execution_count": 15,
   "id": "2a96c7d9-c945-4156-aa93-8211dd49ab5d",
   "metadata": {},
   "outputs": [
    {
     "data": {
      "text/html": [
       "<div>\n",
       "<style scoped>\n",
       "    .dataframe tbody tr th:only-of-type {\n",
       "        vertical-align: middle;\n",
       "    }\n",
       "\n",
       "    .dataframe tbody tr th {\n",
       "        vertical-align: top;\n",
       "    }\n",
       "\n",
       "    .dataframe thead th {\n",
       "        text-align: right;\n",
       "    }\n",
       "</style>\n",
       "<table border=\"1\" class=\"dataframe\">\n",
       "  <thead>\n",
       "    <tr style=\"text-align: right;\">\n",
       "      <th></th>\n",
       "      <th>age</th>\n",
       "      <th>education</th>\n",
       "      <th>sex</th>\n",
       "      <th>is_smoking</th>\n",
       "      <th>cigsPerDay</th>\n",
       "      <th>BPMeds</th>\n",
       "      <th>prevalentStroke</th>\n",
       "      <th>prevalentHyp</th>\n",
       "      <th>diabetes</th>\n",
       "      <th>totChol</th>\n",
       "      <th>sysBP</th>\n",
       "      <th>diaBP</th>\n",
       "      <th>BMI</th>\n",
       "      <th>heartRate</th>\n",
       "      <th>glucose</th>\n",
       "      <th>TenYearCHD</th>\n",
       "    </tr>\n",
       "    <tr>\n",
       "      <th>id</th>\n",
       "      <th></th>\n",
       "      <th></th>\n",
       "      <th></th>\n",
       "      <th></th>\n",
       "      <th></th>\n",
       "      <th></th>\n",
       "      <th></th>\n",
       "      <th></th>\n",
       "      <th></th>\n",
       "      <th></th>\n",
       "      <th></th>\n",
       "      <th></th>\n",
       "      <th></th>\n",
       "      <th></th>\n",
       "      <th></th>\n",
       "      <th></th>\n",
       "    </tr>\n",
       "  </thead>\n",
       "  <tbody>\n",
       "    <tr>\n",
       "      <th>3385</th>\n",
       "      <td>60</td>\n",
       "      <td>1.0</td>\n",
       "      <td>F</td>\n",
       "      <td>NO</td>\n",
       "      <td>0.0</td>\n",
       "      <td>0.0</td>\n",
       "      <td>0</td>\n",
       "      <td>0</td>\n",
       "      <td>0</td>\n",
       "      <td>261.0</td>\n",
       "      <td>123.5</td>\n",
       "      <td>79.0</td>\n",
       "      <td>29.28</td>\n",
       "      <td>70.0</td>\n",
       "      <td>103.0</td>\n",
       "      <td>0</td>\n",
       "    </tr>\n",
       "    <tr>\n",
       "      <th>3386</th>\n",
       "      <td>46</td>\n",
       "      <td>1.0</td>\n",
       "      <td>F</td>\n",
       "      <td>NO</td>\n",
       "      <td>0.0</td>\n",
       "      <td>0.0</td>\n",
       "      <td>0</td>\n",
       "      <td>0</td>\n",
       "      <td>0</td>\n",
       "      <td>199.0</td>\n",
       "      <td>102.0</td>\n",
       "      <td>56.0</td>\n",
       "      <td>21.96</td>\n",
       "      <td>80.0</td>\n",
       "      <td>84.0</td>\n",
       "      <td>0</td>\n",
       "    </tr>\n",
       "    <tr>\n",
       "      <th>3387</th>\n",
       "      <td>44</td>\n",
       "      <td>3.0</td>\n",
       "      <td>M</td>\n",
       "      <td>YES</td>\n",
       "      <td>3.0</td>\n",
       "      <td>0.0</td>\n",
       "      <td>0</td>\n",
       "      <td>1</td>\n",
       "      <td>0</td>\n",
       "      <td>352.0</td>\n",
       "      <td>164.0</td>\n",
       "      <td>119.0</td>\n",
       "      <td>28.92</td>\n",
       "      <td>73.0</td>\n",
       "      <td>72.0</td>\n",
       "      <td>1</td>\n",
       "    </tr>\n",
       "    <tr>\n",
       "      <th>3388</th>\n",
       "      <td>60</td>\n",
       "      <td>1.0</td>\n",
       "      <td>M</td>\n",
       "      <td>NO</td>\n",
       "      <td>0.0</td>\n",
       "      <td>NaN</td>\n",
       "      <td>0</td>\n",
       "      <td>1</td>\n",
       "      <td>0</td>\n",
       "      <td>191.0</td>\n",
       "      <td>167.0</td>\n",
       "      <td>105.0</td>\n",
       "      <td>23.01</td>\n",
       "      <td>80.0</td>\n",
       "      <td>85.0</td>\n",
       "      <td>0</td>\n",
       "    </tr>\n",
       "    <tr>\n",
       "      <th>3389</th>\n",
       "      <td>54</td>\n",
       "      <td>3.0</td>\n",
       "      <td>F</td>\n",
       "      <td>NO</td>\n",
       "      <td>0.0</td>\n",
       "      <td>0.0</td>\n",
       "      <td>0</td>\n",
       "      <td>0</td>\n",
       "      <td>0</td>\n",
       "      <td>288.0</td>\n",
       "      <td>124.0</td>\n",
       "      <td>77.0</td>\n",
       "      <td>29.88</td>\n",
       "      <td>79.0</td>\n",
       "      <td>92.0</td>\n",
       "      <td>0</td>\n",
       "    </tr>\n",
       "  </tbody>\n",
       "</table>\n",
       "</div>"
      ],
      "text/plain": [
       "      age  education sex is_smoking  cigsPerDay  BPMeds  prevalentStroke  \\\n",
       "id                                                                         \n",
       "3385   60        1.0   F         NO         0.0     0.0                0   \n",
       "3386   46        1.0   F         NO         0.0     0.0                0   \n",
       "3387   44        3.0   M        YES         3.0     0.0                0   \n",
       "3388   60        1.0   M         NO         0.0     NaN                0   \n",
       "3389   54        3.0   F         NO         0.0     0.0                0   \n",
       "\n",
       "      prevalentHyp  diabetes  totChol  sysBP  diaBP    BMI  heartRate  \\\n",
       "id                                                                      \n",
       "3385             0         0    261.0  123.5   79.0  29.28       70.0   \n",
       "3386             0         0    199.0  102.0   56.0  21.96       80.0   \n",
       "3387             1         0    352.0  164.0  119.0  28.92       73.0   \n",
       "3388             1         0    191.0  167.0  105.0  23.01       80.0   \n",
       "3389             0         0    288.0  124.0   77.0  29.88       79.0   \n",
       "\n",
       "      glucose  TenYearCHD  \n",
       "id                         \n",
       "3385    103.0           0  \n",
       "3386     84.0           0  \n",
       "3387     72.0           1  \n",
       "3388     85.0           0  \n",
       "3389     92.0           0  "
      ]
     },
     "execution_count": 15,
     "metadata": {},
     "output_type": "execute_result"
    }
   ],
   "source": [
    "# Dataset last \n",
    "df.tail()"
   ]
  },
  {
   "cell_type": "markdown",
   "id": "5fbd95a7-1b36-480d-9a5b-754d2fddc066",
   "metadata": {
    "tags": []
   },
   "source": [
    "### Dataset Rows & Columns count"
   ]
  },
  {
   "cell_type": "code",
   "execution_count": 17,
   "id": "743238e7-b72a-474f-9d56-f7cc1ec78cf9",
   "metadata": {},
   "outputs": [
    {
     "data": {
      "text/plain": [
       "(3390, 16)"
      ]
     },
     "execution_count": 17,
     "metadata": {},
     "output_type": "execute_result"
    }
   ],
   "source": [
    "# Dataset Rows and Columns\n",
    "df.shape"
   ]
  },
  {
   "cell_type": "markdown",
   "id": "166998c6-5d23-49c2-a6ae-f0a06d5ee1b6",
   "metadata": {
    "tags": []
   },
   "source": [
    "### Dataset Information"
   ]
  },
  {
   "cell_type": "code",
   "execution_count": 19,
   "id": "8810f258-48ca-4720-8aa4-9d9d17b380df",
   "metadata": {},
   "outputs": [
    {
     "name": "stdout",
     "output_type": "stream",
     "text": [
      "<class 'pandas.core.frame.DataFrame'>\n",
      "Int64Index: 3390 entries, 0 to 3389\n",
      "Data columns (total 16 columns):\n",
      " #   Column           Non-Null Count  Dtype  \n",
      "---  ------           --------------  -----  \n",
      " 0   age              3390 non-null   int64  \n",
      " 1   education        3303 non-null   float64\n",
      " 2   sex              3390 non-null   object \n",
      " 3   is_smoking       3390 non-null   object \n",
      " 4   cigsPerDay       3368 non-null   float64\n",
      " 5   BPMeds           3346 non-null   float64\n",
      " 6   prevalentStroke  3390 non-null   int64  \n",
      " 7   prevalentHyp     3390 non-null   int64  \n",
      " 8   diabetes         3390 non-null   int64  \n",
      " 9   totChol          3352 non-null   float64\n",
      " 10  sysBP            3390 non-null   float64\n",
      " 11  diaBP            3390 non-null   float64\n",
      " 12  BMI              3376 non-null   float64\n",
      " 13  heartRate        3389 non-null   float64\n",
      " 14  glucose          3086 non-null   float64\n",
      " 15  TenYearCHD       3390 non-null   int64  \n",
      "dtypes: float64(9), int64(5), object(2)\n",
      "memory usage: 450.2+ KB\n"
     ]
    }
   ],
   "source": [
    "# Dataset info\n",
    "df.info()"
   ]
  },
  {
   "cell_type": "markdown",
   "id": "d048b6fd-3696-4070-804f-06cddea5022f",
   "metadata": {
    "jp-MarkdownHeadingCollapsed": true,
    "tags": []
   },
   "source": [
    "### What did you know about your dataset?"
   ]
  },
  {
   "cell_type": "markdown",
   "id": "a6402705-5d89-4cbe-8548-54226586d84c",
   "metadata": {},
   "source": [
    "The dataset originates from an ongoing cardiovascular study in Framingham, Massachusetts, aimed at predicting whether patients face a 10-year risk of coronary heart disease (CHD). It encompasses more than 4,000 records, featuring 15 attributes encompassing demographic, behavioral, and medical factors. Demographic aspects include \"Sex\" for gender (coded as \"M\" or \"F\"), while \"Age\" denotes age, treated as continuous even if recorded as whole numbers. Behavioral features incorporate \"is_smoking\" denoting current smoking status (\"YES\" or \"NO\"), and \"Cigs Per Day\" indicating daily average cigarettes, potentially treated as continuous due to variable values. Medical history attributes comprise \"BP Meds\" for blood pressure medication, \"Prevalent Stroke\" for past stroke history, \"Prevalent Hyp\" for hypertension status, and \"Diabetes\" for diabetes status – all nominal variables. Present medical attributes include continuous measures like \"Tot Chol\" (total cholesterol), \"Sys BP\" (systolic blood pressure), \"Dia BP\" (diastolic blood pressure), \"BMI\" (Body Mass Index), \"Heart Rate,\" and \"Glucose\" levels. The target, \"10-year risk of CHD,\" is binary: \"1\" for positive risk and \"0\" for negative risk – the focus of predictive models based on these attributes."
   ]
  },
  {
   "cell_type": "markdown",
   "id": "89e471f9-620a-4b0f-943e-4f8a7a146f7d",
   "metadata": {
    "tags": []
   },
   "source": [
    "### Checking missing values"
   ]
  },
  {
   "cell_type": "code",
   "execution_count": 23,
   "id": "0959e733-418c-4a20-82d5-bedd6215cc86",
   "metadata": {},
   "outputs": [
    {
     "data": {
      "text/plain": [
       "age                  0\n",
       "education           87\n",
       "sex                  0\n",
       "is_smoking           0\n",
       "cigsPerDay          22\n",
       "BPMeds              44\n",
       "prevalentStroke      0\n",
       "prevalentHyp         0\n",
       "diabetes             0\n",
       "totChol             38\n",
       "sysBP                0\n",
       "diaBP                0\n",
       "BMI                 14\n",
       "heartRate            1\n",
       "glucose            304\n",
       "TenYearCHD           0\n",
       "dtype: int64"
      ]
     },
     "execution_count": 23,
     "metadata": {},
     "output_type": "execute_result"
    }
   ],
   "source": [
    "# Checking missing values in the dataset\n",
    "df.isna().sum()"
   ]
  },
  {
   "cell_type": "code",
   "execution_count": 24,
   "id": "e30a8c3b-2899-4a2b-84f5-e9c0901e91fc",
   "metadata": {},
   "outputs": [
    {
     "data": {
      "image/png": "[encoded data removed]",
      "text/plain": [
       "<Figure size 700x500 with 1 Axes>"
      ]
     },
     "metadata": {},
     "output_type": "display_data"
    },
    {
     "data": {
      "image/png": "[encoded data removed]",
      "text/plain": [
       "<Figure size 700x500 with 1 Axes>"
      ]
     },
     "metadata": {},
     "output_type": "display_data"
    },
    {
     "data": {
      "image/png": "[encoded data removed]",
      "text/plain": [
       "<Figure size 700x500 with 1 Axes>"
      ]
     },
     "metadata": {},
     "output_type": "display_data"
    },
    {
     "data": {
      "image/png": "[encoded data removed]",
      "text/plain": [
       "<Figure size 700x500 with 1 Axes>"
      ]
     },
     "metadata": {},
     "output_type": "display_data"
    },
    {
     "data": {
      "image/png": "[encoded data removed]",
      "text/plain": [
       "<Figure size 700x500 with 1 Axes>"
      ]
     },
     "metadata": {},
     "output_type": "display_data"
    },
    {
     "data": {
      "image/png": "[encoded data removed]",
      "text/plain": [
       "<Figure size 700x500 with 1 Axes>"
      ]
     },
     "metadata": {},
     "output_type": "display_data"
    }
   ],
   "source": [
    "col_name = [df['education'],df['cigsPerDay'],df['BPMeds'],df['totChol'],df['BMI'],df['glucose']]\n",
    "\n",
    "# Checking the distribution for columns that contains missing values\n",
    "for col in col_name:\n",
    "    plt.figure(figsize = (7,5))\n",
    "    sns.distplot(col)"
   ]
  },
  {
   "cell_type": "markdown",
   "id": "1e06692f-6ff3-497e-885e-832aff9fa668",
   "metadata": {
    "tags": []
   },
   "source": [
    "#### Handling missing values"
   ]
  },
  {
   "cell_type": "code",
   "execution_count": 26,
   "id": "ec4e4153-0b2a-40ba-b160-93376d95ac9b",
   "metadata": {},
   "outputs": [],
   "source": [
    "# fillning null values with mean of that column\n",
    "df['education'] = df['education'].fillna(df['education'].mode()).astype(int)\n",
    "df['cigsPerDay'] = df['cigsPerDay'].fillna(df['cigsPerDay'].mode())\n",
    "df['BPMeds'] = df['BPMeds'].fillna(df['BPMeds'].mean())\n",
    "df['totChol'] = df['totChol'].fillna(df['totChol'].mean())\n",
    "df['BMI'] = df['BMI'].fillna(df['BMI'].mean())\n",
    "df['glucose'] = df['glucose'].fillna(df['glucose'].mean())"
   ]
  },
  {
   "cell_type": "code",
   "execution_count": 27,
   "id": "2b068b29-406c-4b16-a739-2211a803b352",
   "metadata": {},
   "outputs": [
    {
     "data": {
      "text/plain": [
       "<Axes: ylabel='id'>"
      ]
     },
     "execution_count": 27,
     "metadata": {},
     "output_type": "execute_result"
    },
    {
     "data": {
      "image/png": "[encoded data removed]",
      "text/plain": [
       "<Figure size 640x480 with 2 Axes>"
      ]
     },
     "metadata": {},
     "output_type": "display_data"
    }
   ],
   "source": [
    "sns.heatmap(df.isnull())"
   ]
  },
  {
   "cell_type": "markdown",
   "id": "2f581c1f-b7db-43c0-9727-d5b01d246077",
   "metadata": {},
   "source": [
    "## ***2. Understanding Your Variables***"
   ]
  },
  {
   "cell_type": "code",
   "execution_count": 29,
   "id": "398456ad-4624-4f90-ab9b-c97b5d553bb5",
   "metadata": {},
   "outputs": [
    {
     "data": {
      "text/plain": [
       "Index(['age', 'education', 'sex', 'is_smoking', 'cigsPerDay', 'BPMeds',\n",
       "       'prevalentStroke', 'prevalentHyp', 'diabetes', 'totChol', 'sysBP',\n",
       "       'diaBP', 'BMI', 'heartRate', 'glucose', 'TenYearCHD'],\n",
       "      dtype='object')"
      ]
     },
     "execution_count": 29,
     "metadata": {},
     "output_type": "execute_result"
    }
   ],
   "source": [
    "# Dataset columns\n",
    "df.columns"
   ]
  },
  {
   "cell_type": "markdown",
   "id": "be59e9b1-3f0c-4de5-bbc4-27c501a2d28b",
   "metadata": {},
   "source": [
    "#### Description of variables of the dataframe"
   ]
  },
  {
   "cell_type": "code",
   "execution_count": 31,
   "id": "a8ca9830-cbbc-4c83-98f7-35c5c840698e",
   "metadata": {},
   "outputs": [
    {
     "data": {
      "text/html": [
       "<div>\n",
       "<style scoped>\n",
       "    .dataframe tbody tr th:only-of-type {\n",
       "        vertical-align: middle;\n",
       "    }\n",
       "\n",
       "    .dataframe tbody tr th {\n",
       "        vertical-align: top;\n",
       "    }\n",
       "\n",
       "    .dataframe thead th {\n",
       "        text-align: right;\n",
       "    }\n",
       "</style>\n",
       "<table border=\"1\" class=\"dataframe\">\n",
       "  <thead>\n",
       "    <tr style=\"text-align: right;\">\n",
       "      <th></th>\n",
       "      <th>age</th>\n",
       "      <th>education</th>\n",
       "      <th>sex</th>\n",
       "      <th>is_smoking</th>\n",
       "      <th>cigsPerDay</th>\n",
       "      <th>BPMeds</th>\n",
       "      <th>prevalentStroke</th>\n",
       "      <th>prevalentHyp</th>\n",
       "      <th>diabetes</th>\n",
       "      <th>totChol</th>\n",
       "      <th>sysBP</th>\n",
       "      <th>diaBP</th>\n",
       "      <th>BMI</th>\n",
       "      <th>heartRate</th>\n",
       "      <th>glucose</th>\n",
       "      <th>TenYearCHD</th>\n",
       "    </tr>\n",
       "  </thead>\n",
       "  <tbody>\n",
       "    <tr>\n",
       "      <th>count</th>\n",
       "      <td>3390.000000</td>\n",
       "      <td>3390.000000</td>\n",
       "      <td>3390</td>\n",
       "      <td>3390</td>\n",
       "      <td>3390.000000</td>\n",
       "      <td>3390.000000</td>\n",
       "      <td>3390.000000</td>\n",
       "      <td>3390.000000</td>\n",
       "      <td>3390.000000</td>\n",
       "      <td>3390.000000</td>\n",
       "      <td>3390.00000</td>\n",
       "      <td>3390.000000</td>\n",
       "      <td>3390.000000</td>\n",
       "      <td>3389.000000</td>\n",
       "      <td>3390.000000</td>\n",
       "      <td>3390.000000</td>\n",
       "    </tr>\n",
       "    <tr>\n",
       "      <th>unique</th>\n",
       "      <td>NaN</td>\n",
       "      <td>NaN</td>\n",
       "      <td>2</td>\n",
       "      <td>2</td>\n",
       "      <td>NaN</td>\n",
       "      <td>NaN</td>\n",
       "      <td>NaN</td>\n",
       "      <td>NaN</td>\n",
       "      <td>NaN</td>\n",
       "      <td>NaN</td>\n",
       "      <td>NaN</td>\n",
       "      <td>NaN</td>\n",
       "      <td>NaN</td>\n",
       "      <td>NaN</td>\n",
       "      <td>NaN</td>\n",
       "      <td>NaN</td>\n",
       "    </tr>\n",
       "    <tr>\n",
       "      <th>top</th>\n",
       "      <td>NaN</td>\n",
       "      <td>NaN</td>\n",
       "      <td>F</td>\n",
       "      <td>NO</td>\n",
       "      <td>NaN</td>\n",
       "      <td>NaN</td>\n",
       "      <td>NaN</td>\n",
       "      <td>NaN</td>\n",
       "      <td>NaN</td>\n",
       "      <td>NaN</td>\n",
       "      <td>NaN</td>\n",
       "      <td>NaN</td>\n",
       "      <td>NaN</td>\n",
       "      <td>NaN</td>\n",
       "      <td>NaN</td>\n",
       "      <td>NaN</td>\n",
       "    </tr>\n",
       "    <tr>\n",
       "      <th>freq</th>\n",
       "      <td>NaN</td>\n",
       "      <td>NaN</td>\n",
       "      <td>1923</td>\n",
       "      <td>1703</td>\n",
       "      <td>NaN</td>\n",
       "      <td>NaN</td>\n",
       "      <td>NaN</td>\n",
       "      <td>NaN</td>\n",
       "      <td>NaN</td>\n",
       "      <td>NaN</td>\n",
       "      <td>NaN</td>\n",
       "      <td>NaN</td>\n",
       "      <td>NaN</td>\n",
       "      <td>NaN</td>\n",
       "      <td>NaN</td>\n",
       "      <td>NaN</td>\n",
       "    </tr>\n",
       "    <tr>\n",
       "      <th>mean</th>\n",
       "      <td>49.542183</td>\n",
       "      <td>1.946018</td>\n",
       "      <td>NaN</td>\n",
       "      <td>NaN</td>\n",
       "      <td>9.069477</td>\n",
       "      <td>0.029886</td>\n",
       "      <td>0.006490</td>\n",
       "      <td>0.315339</td>\n",
       "      <td>0.025664</td>\n",
       "      <td>237.074284</td>\n",
       "      <td>132.60118</td>\n",
       "      <td>82.883038</td>\n",
       "      <td>25.794964</td>\n",
       "      <td>75.977279</td>\n",
       "      <td>82.086520</td>\n",
       "      <td>0.150737</td>\n",
       "    </tr>\n",
       "    <tr>\n",
       "      <th>std</th>\n",
       "      <td>8.592878</td>\n",
       "      <td>1.017568</td>\n",
       "      <td>NaN</td>\n",
       "      <td>NaN</td>\n",
       "      <td>11.840458</td>\n",
       "      <td>0.169190</td>\n",
       "      <td>0.080309</td>\n",
       "      <td>0.464719</td>\n",
       "      <td>0.158153</td>\n",
       "      <td>44.993041</td>\n",
       "      <td>22.29203</td>\n",
       "      <td>12.023581</td>\n",
       "      <td>4.106939</td>\n",
       "      <td>11.971868</td>\n",
       "      <td>23.131808</td>\n",
       "      <td>0.357846</td>\n",
       "    </tr>\n",
       "    <tr>\n",
       "      <th>min</th>\n",
       "      <td>32.000000</td>\n",
       "      <td>1.000000</td>\n",
       "      <td>NaN</td>\n",
       "      <td>NaN</td>\n",
       "      <td>0.000000</td>\n",
       "      <td>0.000000</td>\n",
       "      <td>0.000000</td>\n",
       "      <td>0.000000</td>\n",
       "      <td>0.000000</td>\n",
       "      <td>107.000000</td>\n",
       "      <td>83.50000</td>\n",
       "      <td>48.000000</td>\n",
       "      <td>15.960000</td>\n",
       "      <td>45.000000</td>\n",
       "      <td>40.000000</td>\n",
       "      <td>0.000000</td>\n",
       "    </tr>\n",
       "    <tr>\n",
       "      <th>25%</th>\n",
       "      <td>42.000000</td>\n",
       "      <td>1.000000</td>\n",
       "      <td>NaN</td>\n",
       "      <td>NaN</td>\n",
       "      <td>0.000000</td>\n",
       "      <td>0.000000</td>\n",
       "      <td>0.000000</td>\n",
       "      <td>0.000000</td>\n",
       "      <td>0.000000</td>\n",
       "      <td>206.000000</td>\n",
       "      <td>117.00000</td>\n",
       "      <td>74.500000</td>\n",
       "      <td>23.030000</td>\n",
       "      <td>68.000000</td>\n",
       "      <td>72.000000</td>\n",
       "      <td>0.000000</td>\n",
       "    </tr>\n",
       "    <tr>\n",
       "      <th>50%</th>\n",
       "      <td>49.000000</td>\n",
       "      <td>2.000000</td>\n",
       "      <td>NaN</td>\n",
       "      <td>NaN</td>\n",
       "      <td>0.000000</td>\n",
       "      <td>0.000000</td>\n",
       "      <td>0.000000</td>\n",
       "      <td>0.000000</td>\n",
       "      <td>0.000000</td>\n",
       "      <td>235.000000</td>\n",
       "      <td>128.50000</td>\n",
       "      <td>82.000000</td>\n",
       "      <td>25.400000</td>\n",
       "      <td>75.000000</td>\n",
       "      <td>80.000000</td>\n",
       "      <td>0.000000</td>\n",
       "    </tr>\n",
       "    <tr>\n",
       "      <th>75%</th>\n",
       "      <td>56.000000</td>\n",
       "      <td>3.000000</td>\n",
       "      <td>NaN</td>\n",
       "      <td>NaN</td>\n",
       "      <td>20.000000</td>\n",
       "      <td>0.000000</td>\n",
       "      <td>0.000000</td>\n",
       "      <td>1.000000</td>\n",
       "      <td>0.000000</td>\n",
       "      <td>264.000000</td>\n",
       "      <td>144.00000</td>\n",
       "      <td>90.000000</td>\n",
       "      <td>27.997500</td>\n",
       "      <td>83.000000</td>\n",
       "      <td>85.000000</td>\n",
       "      <td>0.000000</td>\n",
       "    </tr>\n",
       "    <tr>\n",
       "      <th>max</th>\n",
       "      <td>70.000000</td>\n",
       "      <td>4.000000</td>\n",
       "      <td>NaN</td>\n",
       "      <td>NaN</td>\n",
       "      <td>70.000000</td>\n",
       "      <td>1.000000</td>\n",
       "      <td>1.000000</td>\n",
       "      <td>1.000000</td>\n",
       "      <td>1.000000</td>\n",
       "      <td>696.000000</td>\n",
       "      <td>295.00000</td>\n",
       "      <td>142.500000</td>\n",
       "      <td>56.800000</td>\n",
       "      <td>143.000000</td>\n",
       "      <td>394.000000</td>\n",
       "      <td>1.000000</td>\n",
       "    </tr>\n",
       "  </tbody>\n",
       "</table>\n",
       "</div>"
      ],
      "text/plain": [
       "                age    education   sex is_smoking   cigsPerDay       BPMeds  \\\n",
       "count   3390.000000  3390.000000  3390       3390  3390.000000  3390.000000   \n",
       "unique          NaN          NaN     2          2          NaN          NaN   \n",
       "top             NaN          NaN     F         NO          NaN          NaN   \n",
       "freq            NaN          NaN  1923       1703          NaN          NaN   \n",
       "mean      49.542183     1.946018   NaN        NaN     9.069477     0.029886   \n",
       "std        8.592878     1.017568   NaN        NaN    11.840458     0.169190   \n",
       "min       32.000000     1.000000   NaN        NaN     0.000000     0.000000   \n",
       "25%       42.000000     1.000000   NaN        NaN     0.000000     0.000000   \n",
       "50%       49.000000     2.000000   NaN        NaN     0.000000     0.000000   \n",
       "75%       56.000000     3.000000   NaN        NaN    20.000000     0.000000   \n",
       "max       70.000000     4.000000   NaN        NaN    70.000000     1.000000   \n",
       "\n",
       "        prevalentStroke  prevalentHyp     diabetes      totChol       sysBP  \\\n",
       "count       3390.000000   3390.000000  3390.000000  3390.000000  3390.00000   \n",
       "unique              NaN           NaN          NaN          NaN         NaN   \n",
       "top                 NaN           NaN          NaN          NaN         NaN   \n",
       "freq                NaN           NaN          NaN          NaN         NaN   \n",
       "mean           0.006490      0.315339     0.025664   237.074284   132.60118   \n",
       "std            0.080309      0.464719     0.158153    44.993041    22.29203   \n",
       "min            0.000000      0.000000     0.000000   107.000000    83.50000   \n",
       "25%            0.000000      0.000000     0.000000   206.000000   117.00000   \n",
       "50%            0.000000      0.000000     0.000000   235.000000   128.50000   \n",
       "75%            0.000000      1.000000     0.000000   264.000000   144.00000   \n",
       "max            1.000000      1.000000     1.000000   696.000000   295.00000   \n",
       "\n",
       "              diaBP          BMI    heartRate      glucose   TenYearCHD  \n",
       "count   3390.000000  3390.000000  3389.000000  3390.000000  3390.000000  \n",
       "unique          NaN          NaN          NaN          NaN          NaN  \n",
       "top             NaN          NaN          NaN          NaN          NaN  \n",
       "freq            NaN          NaN          NaN          NaN          NaN  \n",
       "mean      82.883038    25.794964    75.977279    82.086520     0.150737  \n",
       "std       12.023581     4.106939    11.971868    23.131808     0.357846  \n",
       "min       48.000000    15.960000    45.000000    40.000000     0.000000  \n",
       "25%       74.500000    23.030000    68.000000    72.000000     0.000000  \n",
       "50%       82.000000    25.400000    75.000000    80.000000     0.000000  \n",
       "75%       90.000000    27.997500    83.000000    85.000000     0.000000  \n",
       "max      142.500000    56.800000   143.000000   394.000000     1.000000  "
      ]
     },
     "execution_count": 31,
     "metadata": {},
     "output_type": "execute_result"
    }
   ],
   "source": [
    "# Shoing statistical information for the dataset\n",
    "df.describe(include='all')"
   ]
  },
  {
   "cell_type": "markdown",
   "id": "41293cd0-2ce7-4e6d-8f15-f163bb93fc36",
   "metadata": {},
   "source": [
    "### Variables Description"
   ]
  },
  {
   "cell_type": "markdown",
   "id": "c9ab6353-dfd7-4ee5-9125-8057cf2c8843",
   "metadata": {},
   "source": [
    "- Sex - Gender\n",
    "- Age - age\n",
    "- is_smoking - whether smoking currently or not\n",
    "- Cigs-Per_day - Cigarettes smoked per day\n",
    "- BP-Meds - Whether taking BP meds or not\n",
    "- Prevalent Stroke - If the patient has a history of stroke\n",
    "- Prevalent hyp - If the patient has a history of hypertension\n",
    "- Diabetes - Patient has diabetes or not\n",
    "- Tot Chol - Cholesterol measur\n",
    "- Sys BP - BP measure\n",
    "- Dia BP - BP measure\n",
    "- BMI - Body Mass Index\n",
    "- Heart Rate - Heart Rate measure"
   ]
  },
  {
   "cell_type": "markdown",
   "id": "518758eb-1fc9-405b-b50a-2ab4f6104ac7",
   "metadata": {},
   "source": [
    "### Check Unique Values for each variable."
   ]
  },
  {
   "cell_type": "code",
   "execution_count": 35,
   "id": "5031792f-0b81-4365-9bcb-e4e92d9b5174",
   "metadata": {},
   "outputs": [
    {
     "name": "stdout",
     "output_type": "stream",
     "text": [
      "number of unique values in age is 39\n",
      "number of unique values in education is 4\n",
      "number of unique values in sex is 2\n",
      "number of unique values in is_smoking is 2\n",
      "number of unique values in cigsPerDay is 33\n",
      "number of unique values in BPMeds is 3\n",
      "number of unique values in prevalentStroke is 2\n",
      "number of unique values in prevalentHyp is 2\n",
      "number of unique values in diabetes is 2\n",
      "number of unique values in totChol is 241\n",
      "number of unique values in sysBP is 226\n",
      "number of unique values in diaBP is 142\n",
      "number of unique values in BMI is 1260\n",
      "number of unique values in heartRate is 68\n",
      "number of unique values in glucose is 133\n",
      "number of unique values in TenYearCHD is 2\n"
     ]
    }
   ],
   "source": [
    "for i in df.columns.tolist():\n",
    "    print(f\"number of unique values in {i} is {df[i].nunique()}\")"
   ]
  },
  {
   "cell_type": "markdown",
   "id": "69832b58-f6ed-4008-8438-e62456417437",
   "metadata": {},
   "source": [
    "### Check duplicate values."
   ]
  },
  {
   "cell_type": "code",
   "execution_count": 37,
   "id": "1071bf25-57fd-42d4-816c-cfed61572328",
   "metadata": {},
   "outputs": [
    {
     "data": {
      "text/plain": [
       "0"
      ]
     },
     "execution_count": 37,
     "metadata": {},
     "output_type": "execute_result"
    }
   ],
   "source": [
    "# There is no duplicate value in the dataset\n",
    "df.duplicated().sum()"
   ]
  },
  {
   "cell_type": "code",
   "execution_count": 38,
   "id": "3a1a26e3-0c20-4db7-a907-25e865a93cf1",
   "metadata": {},
   "outputs": [
    {
     "data": {
      "text/html": [
       "<div>\n",
       "<style scoped>\n",
       "    .dataframe tbody tr th:only-of-type {\n",
       "        vertical-align: middle;\n",
       "    }\n",
       "\n",
       "    .dataframe tbody tr th {\n",
       "        vertical-align: top;\n",
       "    }\n",
       "\n",
       "    .dataframe thead th {\n",
       "        text-align: right;\n",
       "    }\n",
       "</style>\n",
       "<table border=\"1\" class=\"dataframe\">\n",
       "  <thead>\n",
       "    <tr style=\"text-align: right;\">\n",
       "      <th></th>\n",
       "      <th>age</th>\n",
       "      <th>education</th>\n",
       "      <th>sex</th>\n",
       "      <th>is_smoking</th>\n",
       "      <th>cigsPerDay</th>\n",
       "      <th>BPMeds</th>\n",
       "      <th>prevalentStroke</th>\n",
       "      <th>prevalentHyp</th>\n",
       "      <th>diabetes</th>\n",
       "      <th>totChol</th>\n",
       "      <th>sysBP</th>\n",
       "      <th>diaBP</th>\n",
       "      <th>BMI</th>\n",
       "      <th>heartRate</th>\n",
       "      <th>glucose</th>\n",
       "      <th>TenYearCHD</th>\n",
       "    </tr>\n",
       "    <tr>\n",
       "      <th>id</th>\n",
       "      <th></th>\n",
       "      <th></th>\n",
       "      <th></th>\n",
       "      <th></th>\n",
       "      <th></th>\n",
       "      <th></th>\n",
       "      <th></th>\n",
       "      <th></th>\n",
       "      <th></th>\n",
       "      <th></th>\n",
       "      <th></th>\n",
       "      <th></th>\n",
       "      <th></th>\n",
       "      <th></th>\n",
       "      <th></th>\n",
       "      <th></th>\n",
       "    </tr>\n",
       "  </thead>\n",
       "  <tbody>\n",
       "    <tr>\n",
       "      <th>0</th>\n",
       "      <td>64</td>\n",
       "      <td>2</td>\n",
       "      <td>F</td>\n",
       "      <td>YES</td>\n",
       "      <td>3.0</td>\n",
       "      <td>0.0</td>\n",
       "      <td>0</td>\n",
       "      <td>0</td>\n",
       "      <td>0</td>\n",
       "      <td>221.0</td>\n",
       "      <td>148.0</td>\n",
       "      <td>85.0</td>\n",
       "      <td>25.794964</td>\n",
       "      <td>90.0</td>\n",
       "      <td>80.0</td>\n",
       "      <td>1</td>\n",
       "    </tr>\n",
       "    <tr>\n",
       "      <th>1</th>\n",
       "      <td>36</td>\n",
       "      <td>4</td>\n",
       "      <td>M</td>\n",
       "      <td>NO</td>\n",
       "      <td>0.0</td>\n",
       "      <td>0.0</td>\n",
       "      <td>0</td>\n",
       "      <td>1</td>\n",
       "      <td>0</td>\n",
       "      <td>212.0</td>\n",
       "      <td>168.0</td>\n",
       "      <td>98.0</td>\n",
       "      <td>29.770000</td>\n",
       "      <td>72.0</td>\n",
       "      <td>75.0</td>\n",
       "      <td>0</td>\n",
       "    </tr>\n",
       "    <tr>\n",
       "      <th>2</th>\n",
       "      <td>46</td>\n",
       "      <td>1</td>\n",
       "      <td>F</td>\n",
       "      <td>YES</td>\n",
       "      <td>10.0</td>\n",
       "      <td>0.0</td>\n",
       "      <td>0</td>\n",
       "      <td>0</td>\n",
       "      <td>0</td>\n",
       "      <td>250.0</td>\n",
       "      <td>116.0</td>\n",
       "      <td>71.0</td>\n",
       "      <td>20.350000</td>\n",
       "      <td>88.0</td>\n",
       "      <td>94.0</td>\n",
       "      <td>0</td>\n",
       "    </tr>\n",
       "    <tr>\n",
       "      <th>3</th>\n",
       "      <td>50</td>\n",
       "      <td>1</td>\n",
       "      <td>M</td>\n",
       "      <td>YES</td>\n",
       "      <td>20.0</td>\n",
       "      <td>0.0</td>\n",
       "      <td>0</td>\n",
       "      <td>1</td>\n",
       "      <td>0</td>\n",
       "      <td>233.0</td>\n",
       "      <td>158.0</td>\n",
       "      <td>88.0</td>\n",
       "      <td>28.260000</td>\n",
       "      <td>68.0</td>\n",
       "      <td>94.0</td>\n",
       "      <td>1</td>\n",
       "    </tr>\n",
       "    <tr>\n",
       "      <th>4</th>\n",
       "      <td>64</td>\n",
       "      <td>1</td>\n",
       "      <td>F</td>\n",
       "      <td>YES</td>\n",
       "      <td>30.0</td>\n",
       "      <td>0.0</td>\n",
       "      <td>0</td>\n",
       "      <td>0</td>\n",
       "      <td>0</td>\n",
       "      <td>241.0</td>\n",
       "      <td>136.5</td>\n",
       "      <td>85.0</td>\n",
       "      <td>26.420000</td>\n",
       "      <td>70.0</td>\n",
       "      <td>77.0</td>\n",
       "      <td>0</td>\n",
       "    </tr>\n",
       "  </tbody>\n",
       "</table>\n",
       "</div>"
      ],
      "text/plain": [
       "    age  education sex is_smoking  cigsPerDay  BPMeds  prevalentStroke  \\\n",
       "id                                                                       \n",
       "0    64          2   F        YES         3.0     0.0                0   \n",
       "1    36          4   M         NO         0.0     0.0                0   \n",
       "2    46          1   F        YES        10.0     0.0                0   \n",
       "3    50          1   M        YES        20.0     0.0                0   \n",
       "4    64          1   F        YES        30.0     0.0                0   \n",
       "\n",
       "    prevalentHyp  diabetes  totChol  sysBP  diaBP        BMI  heartRate  \\\n",
       "id                                                                        \n",
       "0              0         0    221.0  148.0   85.0  25.794964       90.0   \n",
       "1              1         0    212.0  168.0   98.0  29.770000       72.0   \n",
       "2              0         0    250.0  116.0   71.0  20.350000       88.0   \n",
       "3              1         0    233.0  158.0   88.0  28.260000       68.0   \n",
       "4              0         0    241.0  136.5   85.0  26.420000       70.0   \n",
       "\n",
       "    glucose  TenYearCHD  \n",
       "id                       \n",
       "0      80.0           1  \n",
       "1      75.0           0  \n",
       "2      94.0           0  \n",
       "3      94.0           1  \n",
       "4      77.0           0  "
      ]
     },
     "execution_count": 38,
     "metadata": {},
     "output_type": "execute_result"
    }
   ],
   "source": [
    "df.head(5)"
   ]
  },
  {
   "cell_type": "code",
   "execution_count": 39,
   "id": "6f965059-48e0-4a7c-a2c7-0ad3adcfefaa",
   "metadata": {},
   "outputs": [],
   "source": [
    "# Changing the datatype of necessary columns\n",
    "df['cigsPerDay'] = df['cigsPerDay'].astype(int)\n",
    "df['education'] = df['education'].astype(int)"
   ]
  },
  {
   "cell_type": "code",
   "execution_count": 40,
   "id": "815c8d86-6bdd-4176-917f-9557dd08e0d1",
   "metadata": {},
   "outputs": [
    {
     "name": "stdout",
     "output_type": "stream",
     "text": [
      "<class 'pandas.core.frame.DataFrame'>\n",
      "Int64Index: 3390 entries, 0 to 3389\n",
      "Data columns (total 16 columns):\n",
      " #   Column           Non-Null Count  Dtype  \n",
      "---  ------           --------------  -----  \n",
      " 0   age              3390 non-null   int64  \n",
      " 1   education        3390 non-null   int64  \n",
      " 2   sex              3390 non-null   object \n",
      " 3   is_smoking       3390 non-null   object \n",
      " 4   cigsPerDay       3390 non-null   int64  \n",
      " 5   BPMeds           3390 non-null   float64\n",
      " 6   prevalentStroke  3390 non-null   int64  \n",
      " 7   prevalentHyp     3390 non-null   int64  \n",
      " 8   diabetes         3390 non-null   int64  \n",
      " 9   totChol          3390 non-null   float64\n",
      " 10  sysBP            3390 non-null   float64\n",
      " 11  diaBP            3390 non-null   float64\n",
      " 12  BMI              3390 non-null   float64\n",
      " 13  heartRate        3389 non-null   float64\n",
      " 14  glucose          3390 non-null   float64\n",
      " 15  TenYearCHD       3390 non-null   int64  \n",
      "dtypes: float64(7), int64(7), object(2)\n",
      "memory usage: 450.2+ KB\n"
     ]
    }
   ],
   "source": [
    "df.info()"
   ]
  },
  {
   "cell_type": "code",
   "execution_count": null,
   "id": "c1eb492a-1249-4736-ba89-5672de1f9579",
   "metadata": {},
   "outputs": [],
   "source": []
  },
  {
   "cell_type": "code",
   "execution_count": null,
   "id": "14ba7f8c-dd66-4492-82b9-1b2471c40daf",
   "metadata": {},
   "outputs": [],
   "source": []
  }
 ],
 "metadata": {
  "kernelspec": {
   "display_name": "anaconda-panel-2023.05-py310",
   "language": "python",
   "name": "conda-env-anaconda-panel-2023.05-py310-py"
  },
  "language_info": {
   "codemirror_mode": {
    "name": "ipython",
    "version": 3
   },
   "file_extension": ".py",
   "mimetype": "text/x-python",
   "name": "python",
   "nbconvert_exporter": "python",
   "pygments_lexer": "ipython3",
   "version": "3.11.4"
  }
 },
 "nbformat": 4,
 "nbformat_minor": 5
}
