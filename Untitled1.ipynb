{
 "cells": [
  {
   "cell_type": "markdown",
   "id": "4812e3ab-00bf-4d21-99cd-7d1884e7ef9b",
   "metadata": {
    "jp-MarkdownHeadingCollapsed": true,
    "tags": []
   },
   "source": [
    "# Project Name - Yes Bank Stock Closing Price Predicition"
   ]
  },
  {
   "cell_type": "markdown",
   "id": "1932b7f8-da83-408d-a844-456da8bc4c2d",
   "metadata": {},
   "source": [
    "- Project Type - Yes Bank Stock Closing Price Predicition\n",
    "- Contribution - Group\n",
    "- Team Member 1 - Vipil Khapre\n",
    "- Team Member 2 - Pranay Kuthe"
   ]
  },
  {
   "cell_type": "markdown",
   "id": "41cb2a41-ae00-4449-9629-441526f32dd6",
   "metadata": {
    "jp-MarkdownHeadingCollapsed": true,
    "tags": []
   },
   "source": [
    "# GitHub Link "
   ]
  },
  {
   "cell_type": "code",
   "execution_count": null,
   "id": "e7ed1e68-1c8d-4b75-a83e-438843f6d4a8",
   "metadata": {},
   "outputs": [],
   "source": []
  },
  {
   "cell_type": "markdown",
   "id": "049ea0fb-22a8-4335-b912-89f092093129",
   "metadata": {
    "tags": []
   },
   "source": [
    "# Problem Statement (Data Set Information)"
   ]
  },
  {
   "cell_type": "markdown",
   "id": "1551b057-3279-4614-b03b-0516a16206b0",
   "metadata": {},
   "source": [
    "- In recent years, Yes Bank, a prominent bank in the Indian financial sector, has garnered significant attention due to a high-profile fraud case involving its former CEO Rana Kapoor. The objective of this project is to explore the impact of such events on the stock prices of the bank and determine whether time series models or other predictive models can effectively capture the dynamics of stock price movements. The dataset at hand contains monthly stock price information for Yes Bank, spanning from its inception. This dataset includes the closing, opening, highest, and lowest stock prices for each month. The primary goal is to develop predictive models that can accurately forecast the closing stock price for the upcoming months."
   ]
  },
  {
   "cell_type": "markdown",
   "id": "b7cac78e-a3af-4d57-8b44-23340e2a70cc",
   "metadata": {
    "tags": []
   },
   "source": [
    "# Let's Begin !"
   ]
  },
  {
   "cell_type": "markdown",
   "id": "222c08e1-372b-4504-8521-8fbdddeb6fb6",
   "metadata": {
    "tags": []
   },
   "source": [
    "## ***1. Know Your Data***"
   ]
  },
  {
   "cell_type": "markdown",
   "id": "0e3a2822-1028-4455-a38c-3227a32e73f6",
   "metadata": {},
   "source": [
    "### Import Libraries"
   ]
  },
  {
   "cell_type": "code",
   "execution_count": 53,
   "id": "fec50299-c196-4f13-bbba-ffa09a67994a",
   "metadata": {},
   "outputs": [],
   "source": [
    "# Import Libraries\n",
    "import pandas as pd\n",
    "import numpy as np\n",
    "import matplotlib.pyplot as plt\n",
    "import seaborn as sns\n",
    "from datetime import datetime\n",
    "from datetime import date\n",
    "%matplotlib inline"
   ]
  },
  {
   "cell_type": "markdown",
   "id": "deac8ab7-6efa-49e5-889d-888503d7e429",
   "metadata": {},
   "source": [
    "### Dataset Loading"
   ]
  },
  {
   "cell_type": "code",
   "execution_count": 54,
   "id": "43f1476e-fb12-4b86-88f6-e33c32e9a24f",
   "metadata": {},
   "outputs": [],
   "source": [
    "df =pd.read_csv('data_YesBank_StockPrices.csv')"
   ]
  },
  {
   "cell_type": "markdown",
   "id": "d83a073e-89f8-4409-81bb-267efc6abdbd",
   "metadata": {},
   "source": [
    "### Dataset First and last View"
   ]
  },
  {
   "cell_type": "code",
   "execution_count": 55,
   "id": "d4f96f4c-8994-4a1a-be7e-e23ef14d56ac",
   "metadata": {},
   "outputs": [
    {
     "data": {
      "text/html": [
       "<div>\n",
       "<style scoped>\n",
       "    .dataframe tbody tr th:only-of-type {\n",
       "        vertical-align: middle;\n",
       "    }\n",
       "\n",
       "    .dataframe tbody tr th {\n",
       "        vertical-align: top;\n",
       "    }\n",
       "\n",
       "    .dataframe thead th {\n",
       "        text-align: right;\n",
       "    }\n",
       "</style>\n",
       "<table border=\"1\" class=\"dataframe\">\n",
       "  <thead>\n",
       "    <tr style=\"text-align: right;\">\n",
       "      <th></th>\n",
       "      <th>Date</th>\n",
       "      <th>Open</th>\n",
       "      <th>High</th>\n",
       "      <th>Low</th>\n",
       "      <th>Close</th>\n",
       "    </tr>\n",
       "  </thead>\n",
       "  <tbody>\n",
       "    <tr>\n",
       "      <th>0</th>\n",
       "      <td>Jul-05</td>\n",
       "      <td>13.00</td>\n",
       "      <td>14.00</td>\n",
       "      <td>11.25</td>\n",
       "      <td>12.46</td>\n",
       "    </tr>\n",
       "    <tr>\n",
       "      <th>1</th>\n",
       "      <td>Aug-05</td>\n",
       "      <td>12.58</td>\n",
       "      <td>14.88</td>\n",
       "      <td>12.55</td>\n",
       "      <td>13.42</td>\n",
       "    </tr>\n",
       "    <tr>\n",
       "      <th>2</th>\n",
       "      <td>Sep-05</td>\n",
       "      <td>13.48</td>\n",
       "      <td>14.87</td>\n",
       "      <td>12.27</td>\n",
       "      <td>13.30</td>\n",
       "    </tr>\n",
       "    <tr>\n",
       "      <th>3</th>\n",
       "      <td>Oct-05</td>\n",
       "      <td>13.20</td>\n",
       "      <td>14.47</td>\n",
       "      <td>12.40</td>\n",
       "      <td>12.99</td>\n",
       "    </tr>\n",
       "    <tr>\n",
       "      <th>4</th>\n",
       "      <td>Nov-05</td>\n",
       "      <td>13.35</td>\n",
       "      <td>13.88</td>\n",
       "      <td>12.88</td>\n",
       "      <td>13.41</td>\n",
       "    </tr>\n",
       "  </tbody>\n",
       "</table>\n",
       "</div>"
      ],
      "text/plain": [
       "     Date   Open   High    Low  Close\n",
       "0  Jul-05  13.00  14.00  11.25  12.46\n",
       "1  Aug-05  12.58  14.88  12.55  13.42\n",
       "2  Sep-05  13.48  14.87  12.27  13.30\n",
       "3  Oct-05  13.20  14.47  12.40  12.99\n",
       "4  Nov-05  13.35  13.88  12.88  13.41"
      ]
     },
     "execution_count": 55,
     "metadata": {},
     "output_type": "execute_result"
    }
   ],
   "source": [
    "# Dataset first and last \n",
    "df.head()"
   ]
  },
  {
   "cell_type": "code",
   "execution_count": 56,
   "id": "49e11e4a-4dde-4f39-9f9f-24a1d1d532da",
   "metadata": {},
   "outputs": [
    {
     "data": {
      "text/html": [
       "<div>\n",
       "<style scoped>\n",
       "    .dataframe tbody tr th:only-of-type {\n",
       "        vertical-align: middle;\n",
       "    }\n",
       "\n",
       "    .dataframe tbody tr th {\n",
       "        vertical-align: top;\n",
       "    }\n",
       "\n",
       "    .dataframe thead th {\n",
       "        text-align: right;\n",
       "    }\n",
       "</style>\n",
       "<table border=\"1\" class=\"dataframe\">\n",
       "  <thead>\n",
       "    <tr style=\"text-align: right;\">\n",
       "      <th></th>\n",
       "      <th>Date</th>\n",
       "      <th>Open</th>\n",
       "      <th>High</th>\n",
       "      <th>Low</th>\n",
       "      <th>Close</th>\n",
       "    </tr>\n",
       "  </thead>\n",
       "  <tbody>\n",
       "    <tr>\n",
       "      <th>180</th>\n",
       "      <td>Jul-20</td>\n",
       "      <td>25.60</td>\n",
       "      <td>28.30</td>\n",
       "      <td>11.10</td>\n",
       "      <td>11.95</td>\n",
       "    </tr>\n",
       "    <tr>\n",
       "      <th>181</th>\n",
       "      <td>Aug-20</td>\n",
       "      <td>12.00</td>\n",
       "      <td>17.16</td>\n",
       "      <td>11.85</td>\n",
       "      <td>14.37</td>\n",
       "    </tr>\n",
       "    <tr>\n",
       "      <th>182</th>\n",
       "      <td>Sep-20</td>\n",
       "      <td>14.30</td>\n",
       "      <td>15.34</td>\n",
       "      <td>12.75</td>\n",
       "      <td>13.15</td>\n",
       "    </tr>\n",
       "    <tr>\n",
       "      <th>183</th>\n",
       "      <td>Oct-20</td>\n",
       "      <td>13.30</td>\n",
       "      <td>14.01</td>\n",
       "      <td>12.11</td>\n",
       "      <td>12.42</td>\n",
       "    </tr>\n",
       "    <tr>\n",
       "      <th>184</th>\n",
       "      <td>Nov-20</td>\n",
       "      <td>12.41</td>\n",
       "      <td>14.90</td>\n",
       "      <td>12.21</td>\n",
       "      <td>14.67</td>\n",
       "    </tr>\n",
       "  </tbody>\n",
       "</table>\n",
       "</div>"
      ],
      "text/plain": [
       "       Date   Open   High    Low  Close\n",
       "180  Jul-20  25.60  28.30  11.10  11.95\n",
       "181  Aug-20  12.00  17.16  11.85  14.37\n",
       "182  Sep-20  14.30  15.34  12.75  13.15\n",
       "183  Oct-20  13.30  14.01  12.11  12.42\n",
       "184  Nov-20  12.41  14.90  12.21  14.67"
      ]
     },
     "execution_count": 56,
     "metadata": {},
     "output_type": "execute_result"
    }
   ],
   "source": [
    "df.tail()"
   ]
  },
  {
   "cell_type": "markdown",
   "id": "0630eb3e-0122-4e58-aa90-a7cc9f2a8513",
   "metadata": {},
   "source": [
    "### Dataset Rows & Columns count"
   ]
  },
  {
   "cell_type": "code",
   "execution_count": 57,
   "id": "232255f2-095c-43e3-8828-3304bfe0568d",
   "metadata": {},
   "outputs": [
    {
     "data": {
      "text/plain": [
       "(185, 5)"
      ]
     },
     "execution_count": 57,
     "metadata": {},
     "output_type": "execute_result"
    }
   ],
   "source": [
    "# Dataset Rows and Columns\n",
    "df.shape"
   ]
  },
  {
   "cell_type": "markdown",
   "id": "4b9b9a07-554d-4c36-b035-fe5fc1b2f1db",
   "metadata": {},
   "source": [
    "### Dataset Information"
   ]
  },
  {
   "cell_type": "code",
   "execution_count": 58,
   "id": "c9fc241d-5cff-4c44-9169-094d1df03a26",
   "metadata": {},
   "outputs": [
    {
     "name": "stdout",
     "output_type": "stream",
     "text": [
      "<class 'pandas.core.frame.DataFrame'>\n",
      "RangeIndex: 185 entries, 0 to 184\n",
      "Data columns (total 5 columns):\n",
      " #   Column  Non-Null Count  Dtype  \n",
      "---  ------  --------------  -----  \n",
      " 0   Date    185 non-null    object \n",
      " 1   Open    185 non-null    float64\n",
      " 2   High    185 non-null    float64\n",
      " 3   Low     185 non-null    float64\n",
      " 4   Close   185 non-null    float64\n",
      "dtypes: float64(4), object(1)\n",
      "memory usage: 7.4+ KB\n"
     ]
    }
   ],
   "source": [
    "# Dataset info\n",
    "df.info()"
   ]
  },
  {
   "cell_type": "markdown",
   "id": "c931becf-c2a9-440b-8155-03cd73fe7de4",
   "metadata": {},
   "source": [
    "### What did you know about your dataset?\n"
   ]
  },
  {
   "cell_type": "markdown",
   "id": "de1af93b-6361-4159-9ba6-eceee69e2a64",
   "metadata": {},
   "source": [
    "# Checking missing values"
   ]
  },
  {
   "cell_type": "code",
   "execution_count": 59,
   "id": "d8c1f0c0-119b-4abc-926b-db8dea9a12b5",
   "metadata": {},
   "outputs": [
    {
     "data": {
      "text/plain": [
       "Date     0\n",
       "Open     0\n",
       "High     0\n",
       "Low      0\n",
       "Close    0\n",
       "dtype: int64"
      ]
     },
     "execution_count": 59,
     "metadata": {},
     "output_type": "execute_result"
    }
   ],
   "source": [
    "# Checking missing values in the dataset\n",
    "df.isnull().sum()"
   ]
  },
  {
   "cell_type": "markdown",
   "id": "7ab5196e-2c19-44d9-8595-174fa850b930",
   "metadata": {},
   "source": [
    "## ***2. Understanding Your Variables***"
   ]
  },
  {
   "cell_type": "code",
   "execution_count": 60,
   "id": "3db5ba4b-8b37-40b1-9d2c-9d8bc61ac943",
   "metadata": {},
   "outputs": [
    {
     "data": {
      "text/plain": [
       "Index(['Date', 'Open', 'High', 'Low', 'Close'], dtype='object')"
      ]
     },
     "execution_count": 60,
     "metadata": {},
     "output_type": "execute_result"
    }
   ],
   "source": [
    "# Dataset columns\n",
    "df.columns"
   ]
  },
  {
   "cell_type": "markdown",
   "id": "4dd4c727-829b-453e-acb1-978fe89f0b6a",
   "metadata": {},
   "source": [
    "#### Description of variables of the dataframe"
   ]
  },
  {
   "cell_type": "code",
   "execution_count": 61,
   "id": "eb19eea4-ec25-4a76-a76e-d88a7228d4f4",
   "metadata": {},
   "outputs": [
    {
     "data": {
      "text/html": [
       "<div>\n",
       "<style scoped>\n",
       "    .dataframe tbody tr th:only-of-type {\n",
       "        vertical-align: middle;\n",
       "    }\n",
       "\n",
       "    .dataframe tbody tr th {\n",
       "        vertical-align: top;\n",
       "    }\n",
       "\n",
       "    .dataframe thead th {\n",
       "        text-align: right;\n",
       "    }\n",
       "</style>\n",
       "<table border=\"1\" class=\"dataframe\">\n",
       "  <thead>\n",
       "    <tr style=\"text-align: right;\">\n",
       "      <th></th>\n",
       "      <th>Open</th>\n",
       "      <th>High</th>\n",
       "      <th>Low</th>\n",
       "      <th>Close</th>\n",
       "    </tr>\n",
       "  </thead>\n",
       "  <tbody>\n",
       "    <tr>\n",
       "      <th>count</th>\n",
       "      <td>185.000000</td>\n",
       "      <td>185.000000</td>\n",
       "      <td>185.000000</td>\n",
       "      <td>185.000000</td>\n",
       "    </tr>\n",
       "    <tr>\n",
       "      <th>mean</th>\n",
       "      <td>105.541405</td>\n",
       "      <td>116.104324</td>\n",
       "      <td>94.947838</td>\n",
       "      <td>105.204703</td>\n",
       "    </tr>\n",
       "    <tr>\n",
       "      <th>std</th>\n",
       "      <td>98.879850</td>\n",
       "      <td>106.333497</td>\n",
       "      <td>91.219415</td>\n",
       "      <td>98.583153</td>\n",
       "    </tr>\n",
       "    <tr>\n",
       "      <th>min</th>\n",
       "      <td>10.000000</td>\n",
       "      <td>11.240000</td>\n",
       "      <td>5.550000</td>\n",
       "      <td>9.980000</td>\n",
       "    </tr>\n",
       "    <tr>\n",
       "      <th>25%</th>\n",
       "      <td>33.800000</td>\n",
       "      <td>36.140000</td>\n",
       "      <td>28.510000</td>\n",
       "      <td>33.450000</td>\n",
       "    </tr>\n",
       "    <tr>\n",
       "      <th>50%</th>\n",
       "      <td>62.980000</td>\n",
       "      <td>72.550000</td>\n",
       "      <td>58.000000</td>\n",
       "      <td>62.540000</td>\n",
       "    </tr>\n",
       "    <tr>\n",
       "      <th>75%</th>\n",
       "      <td>153.000000</td>\n",
       "      <td>169.190000</td>\n",
       "      <td>138.350000</td>\n",
       "      <td>153.300000</td>\n",
       "    </tr>\n",
       "    <tr>\n",
       "      <th>max</th>\n",
       "      <td>369.950000</td>\n",
       "      <td>404.000000</td>\n",
       "      <td>345.500000</td>\n",
       "      <td>367.900000</td>\n",
       "    </tr>\n",
       "  </tbody>\n",
       "</table>\n",
       "</div>"
      ],
      "text/plain": [
       "             Open        High         Low       Close\n",
       "count  185.000000  185.000000  185.000000  185.000000\n",
       "mean   105.541405  116.104324   94.947838  105.204703\n",
       "std     98.879850  106.333497   91.219415   98.583153\n",
       "min     10.000000   11.240000    5.550000    9.980000\n",
       "25%     33.800000   36.140000   28.510000   33.450000\n",
       "50%     62.980000   72.550000   58.000000   62.540000\n",
       "75%    153.000000  169.190000  138.350000  153.300000\n",
       "max    369.950000  404.000000  345.500000  367.900000"
      ]
     },
     "execution_count": 61,
     "metadata": {},
     "output_type": "execute_result"
    }
   ],
   "source": [
    "# Shoing statistical information for the dataset\n",
    "df.describe()"
   ]
  },
  {
   "cell_type": "markdown",
   "id": "d503f38f-b893-4dfe-9676-e9e14d365753",
   "metadata": {},
   "source": [
    "### Variables Description"
   ]
  },
  {
   "cell_type": "markdown",
   "id": "5a8a1ce9-a5d8-45ab-b1e1-c684722ff6cd",
   "metadata": {},
   "source": [
    "1. Date  : Date of records\n",
    "2. Open  : Opening price\n",
    "3. High  : Highest price in the day\n",
    "4. Low   : Lowest price in the day\n",
    "5. Close : Occupation of the speaker"
   ]
  },
  {
   "cell_type": "markdown",
   "id": "d6802a4e-d9f4-43ce-93c5-6e242aa364eb",
   "metadata": {},
   "source": [
    "### Check Unique Values for each variable."
   ]
  },
  {
   "cell_type": "code",
   "execution_count": 62,
   "id": "11437d3c-7f6a-4cc4-883e-5931111272ec",
   "metadata": {},
   "outputs": [
    {
     "name": "stdout",
     "output_type": "stream",
     "text": [
      "No. of unique values in Date is 185\n",
      "No. of unique values in Open is 183\n",
      "No. of unique values in High is 184\n",
      "No. of unique values in Low is 183\n",
      "No. of unique values in Close is 185\n"
     ]
    }
   ],
   "source": [
    "# Check Unique Values for each variable.\n",
    "for i in df.columns.tolist():\n",
    "  print(\"No. of unique values in\",i,\"is\",df[i].nunique())"
   ]
  },
  {
   "cell_type": "markdown",
   "id": "275eccdc-ca7c-4855-8933-dd516b323487",
   "metadata": {},
   "source": [
    "### Check duplicate values."
   ]
  },
  {
   "cell_type": "code",
   "execution_count": 63,
   "id": "ef89b925-7435-4908-a571-6627b4d065bf",
   "metadata": {},
   "outputs": [
    {
     "data": {
      "text/plain": [
       "0"
      ]
     },
     "execution_count": 63,
     "metadata": {},
     "output_type": "execute_result"
    }
   ],
   "source": [
    "# there is no duplicate value avaliable in the dataset\n",
    "df.duplicated().sum()"
   ]
  },
  {
   "cell_type": "markdown",
   "id": "909ec07e-1bfe-4755-bcda-0430f819e155",
   "metadata": {},
   "source": [
    "# Creating a new columns "
   ]
  },
  {
   "cell_type": "code",
   "execution_count": 64,
   "id": "1f8ca0a4-b335-40fa-9013-f9feae146e19",
   "metadata": {},
   "outputs": [],
   "source": [
    "# Creating a new columns name 'Day amd 'Month' from 'Date' column in the dataset \n",
    "df['Day'] = df['Date'].str.split('-').str[1]\n",
    "df['Month'] = df['Date'].apply(lambda x: datetime.strptime(x, '%b-%y').month)\n",
    "df = df.drop('Date',axis=1)"
   ]
  },
  {
   "cell_type": "markdown",
   "id": "518e3d14-78bc-4cf5-bfcb-7709290c7602",
   "metadata": {},
   "source": [
    "# Changing the Data type of the columns from the dataset\n"
   ]
  },
  {
   "cell_type": "code",
   "execution_count": 69,
   "id": "b77f702b-9e66-40da-8f5f-bd41f3c1371e",
   "metadata": {},
   "outputs": [],
   "source": [
    "# changing the datatype of the Day column from object to int\n",
    "df['Day'] = df['Day'].astype(int)"
   ]
  },
  {
   "cell_type": "markdown",
   "id": "69567c84-0388-4680-a65c-44048ad6ca47",
   "metadata": {},
   "source": [
    "##  Exploratory Data Analysis (EDA)"
   ]
  },
  {
   "cell_type": "code",
   "execution_count": 70,
   "id": "941b1d6b-3324-4408-91da-663f1286f16c",
   "metadata": {},
   "outputs": [
    {
     "data": {
      "text/html": [
       "<div>\n",
       "<style scoped>\n",
       "    .dataframe tbody tr th:only-of-type {\n",
       "        vertical-align: middle;\n",
       "    }\n",
       "\n",
       "    .dataframe tbody tr th {\n",
       "        vertical-align: top;\n",
       "    }\n",
       "\n",
       "    .dataframe thead th {\n",
       "        text-align: right;\n",
       "    }\n",
       "</style>\n",
       "<table border=\"1\" class=\"dataframe\">\n",
       "  <thead>\n",
       "    <tr style=\"text-align: right;\">\n",
       "      <th></th>\n",
       "      <th>Open</th>\n",
       "      <th>High</th>\n",
       "      <th>Low</th>\n",
       "      <th>Close</th>\n",
       "      <th>Day</th>\n",
       "      <th>Month</th>\n",
       "    </tr>\n",
       "  </thead>\n",
       "  <tbody>\n",
       "    <tr>\n",
       "      <th>0</th>\n",
       "      <td>13.00</td>\n",
       "      <td>14.00</td>\n",
       "      <td>11.25</td>\n",
       "      <td>12.46</td>\n",
       "      <td>5</td>\n",
       "      <td>7</td>\n",
       "    </tr>\n",
       "    <tr>\n",
       "      <th>1</th>\n",
       "      <td>12.58</td>\n",
       "      <td>14.88</td>\n",
       "      <td>12.55</td>\n",
       "      <td>13.42</td>\n",
       "      <td>5</td>\n",
       "      <td>8</td>\n",
       "    </tr>\n",
       "    <tr>\n",
       "      <th>2</th>\n",
       "      <td>13.48</td>\n",
       "      <td>14.87</td>\n",
       "      <td>12.27</td>\n",
       "      <td>13.30</td>\n",
       "      <td>5</td>\n",
       "      <td>9</td>\n",
       "    </tr>\n",
       "    <tr>\n",
       "      <th>3</th>\n",
       "      <td>13.20</td>\n",
       "      <td>14.47</td>\n",
       "      <td>12.40</td>\n",
       "      <td>12.99</td>\n",
       "      <td>5</td>\n",
       "      <td>10</td>\n",
       "    </tr>\n",
       "    <tr>\n",
       "      <th>4</th>\n",
       "      <td>13.35</td>\n",
       "      <td>13.88</td>\n",
       "      <td>12.88</td>\n",
       "      <td>13.41</td>\n",
       "      <td>5</td>\n",
       "      <td>11</td>\n",
       "    </tr>\n",
       "  </tbody>\n",
       "</table>\n",
       "</div>"
      ],
      "text/plain": [
       "    Open   High    Low  Close  Day  Month\n",
       "0  13.00  14.00  11.25  12.46    5      7\n",
       "1  12.58  14.88  12.55  13.42    5      8\n",
       "2  13.48  14.87  12.27  13.30    5      9\n",
       "3  13.20  14.47  12.40  12.99    5     10\n",
       "4  13.35  13.88  12.88  13.41    5     11"
      ]
     },
     "execution_count": 70,
     "metadata": {},
     "output_type": "execute_result"
    }
   ],
   "source": [
    "df.head()"
   ]
  },
  {
   "cell_type": "code",
   "execution_count": 76,
   "id": "68b82dfd-6328-4796-8785-8b4d090fbf1d",
   "metadata": {},
   "outputs": [
    {
     "data": {
      "text/html": [
       "<div>\n",
       "<style scoped>\n",
       "    .dataframe tbody tr th:only-of-type {\n",
       "        vertical-align: middle;\n",
       "    }\n",
       "\n",
       "    .dataframe tbody tr th {\n",
       "        vertical-align: top;\n",
       "    }\n",
       "\n",
       "    .dataframe thead th {\n",
       "        text-align: right;\n",
       "    }\n",
       "</style>\n",
       "<table border=\"1\" class=\"dataframe\">\n",
       "  <thead>\n",
       "    <tr style=\"text-align: right;\">\n",
       "      <th></th>\n",
       "      <th>Open</th>\n",
       "      <th>High</th>\n",
       "      <th>Close</th>\n",
       "    </tr>\n",
       "    <tr>\n",
       "      <th>Day</th>\n",
       "      <th></th>\n",
       "      <th></th>\n",
       "      <th></th>\n",
       "    </tr>\n",
       "  </thead>\n",
       "  <tbody>\n",
       "    <tr>\n",
       "      <th>5</th>\n",
       "      <td>79.10</td>\n",
       "      <td>86.54</td>\n",
       "      <td>79.29</td>\n",
       "    </tr>\n",
       "    <tr>\n",
       "      <th>6</th>\n",
       "      <td>220.82</td>\n",
       "      <td>253.09</td>\n",
       "      <td>232.20</td>\n",
       "    </tr>\n",
       "    <tr>\n",
       "      <th>7</th>\n",
       "      <td>421.93</td>\n",
       "      <td>476.92</td>\n",
       "      <td>442.48</td>\n",
       "    </tr>\n",
       "    <tr>\n",
       "      <th>8</th>\n",
       "      <td>375.51</td>\n",
       "      <td>411.97</td>\n",
       "      <td>339.03</td>\n",
       "    </tr>\n",
       "    <tr>\n",
       "      <th>9</th>\n",
       "      <td>323.29</td>\n",
       "      <td>392.14</td>\n",
       "      <td>360.39</td>\n",
       "    </tr>\n",
       "    <tr>\n",
       "      <th>10</th>\n",
       "      <td>695.36</td>\n",
       "      <td>762.10</td>\n",
       "      <td>703.75</td>\n",
       "    </tr>\n",
       "    <tr>\n",
       "      <th>11</th>\n",
       "      <td>706.38</td>\n",
       "      <td>760.10</td>\n",
       "      <td>686.68</td>\n",
       "    </tr>\n",
       "    <tr>\n",
       "      <th>12</th>\n",
       "      <td>847.78</td>\n",
       "      <td>930.93</td>\n",
       "      <td>891.38</td>\n",
       "    </tr>\n",
       "    <tr>\n",
       "      <th>13</th>\n",
       "      <td>991.30</td>\n",
       "      <td>1112.98</td>\n",
       "      <td>967.02</td>\n",
       "    </tr>\n",
       "    <tr>\n",
       "      <th>14</th>\n",
       "      <td>1205.56</td>\n",
       "      <td>1349.27</td>\n",
       "      <td>1283.37</td>\n",
       "    </tr>\n",
       "    <tr>\n",
       "      <th>15</th>\n",
       "      <td>1933.70</td>\n",
       "      <td>2032.73</td>\n",
       "      <td>1921.35</td>\n",
       "    </tr>\n",
       "    <tr>\n",
       "      <th>16</th>\n",
       "      <td>2485.49</td>\n",
       "      <td>2690.71</td>\n",
       "      <td>2562.29</td>\n",
       "    </tr>\n",
       "    <tr>\n",
       "      <th>17</th>\n",
       "      <td>3709.58</td>\n",
       "      <td>4005.61</td>\n",
       "      <td>3783.68</td>\n",
       "    </tr>\n",
       "    <tr>\n",
       "      <th>18</th>\n",
       "      <td>3608.70</td>\n",
       "      <td>3983.05</td>\n",
       "      <td>3463.65</td>\n",
       "    </tr>\n",
       "    <tr>\n",
       "      <th>19</th>\n",
       "      <td>1644.00</td>\n",
       "      <td>1870.30</td>\n",
       "      <td>1503.15</td>\n",
       "    </tr>\n",
       "    <tr>\n",
       "      <th>20</th>\n",
       "      <td>276.66</td>\n",
       "      <td>360.86</td>\n",
       "      <td>243.16</td>\n",
       "    </tr>\n",
       "  </tbody>\n",
       "</table>\n",
       "</div>"
      ],
      "text/plain": [
       "        Open     High    Close\n",
       "Day                           \n",
       "5      79.10    86.54    79.29\n",
       "6     220.82   253.09   232.20\n",
       "7     421.93   476.92   442.48\n",
       "8     375.51   411.97   339.03\n",
       "9     323.29   392.14   360.39\n",
       "10    695.36   762.10   703.75\n",
       "11    706.38   760.10   686.68\n",
       "12    847.78   930.93   891.38\n",
       "13    991.30  1112.98   967.02\n",
       "14   1205.56  1349.27  1283.37\n",
       "15   1933.70  2032.73  1921.35\n",
       "16   2485.49  2690.71  2562.29\n",
       "17   3709.58  4005.61  3783.68\n",
       "18   3608.70  3983.05  3463.65\n",
       "19   1644.00  1870.30  1503.15\n",
       "20    276.66   360.86   243.16"
      ]
     },
     "execution_count": 76,
     "metadata": {},
     "output_type": "execute_result"
    }
   ],
   "source": [
    "df.groupby('Day')[['Open','High','Close']].sum()"
   ]
  },
  {
   "cell_type": "code",
   "execution_count": 77,
   "id": "0221babe-529f-48bc-8021-4b02c97c08eb",
   "metadata": {},
   "outputs": [
    {
     "data": {
      "text/html": [
       "<div>\n",
       "<style scoped>\n",
       "    .dataframe tbody tr th:only-of-type {\n",
       "        vertical-align: middle;\n",
       "    }\n",
       "\n",
       "    .dataframe tbody tr th {\n",
       "        vertical-align: top;\n",
       "    }\n",
       "\n",
       "    .dataframe thead th {\n",
       "        text-align: right;\n",
       "    }\n",
       "</style>\n",
       "<table border=\"1\" class=\"dataframe\">\n",
       "  <thead>\n",
       "    <tr style=\"text-align: right;\">\n",
       "      <th></th>\n",
       "      <th>Open</th>\n",
       "      <th>High</th>\n",
       "      <th>Low</th>\n",
       "      <th>Close</th>\n",
       "      <th>Day</th>\n",
       "      <th>Month</th>\n",
       "    </tr>\n",
       "  </thead>\n",
       "  <tbody>\n",
       "    <tr>\n",
       "      <th>157</th>\n",
       "      <td>369.95</td>\n",
       "      <td>404.00</td>\n",
       "      <td>338.00</td>\n",
       "      <td>343.40</td>\n",
       "      <td>18</td>\n",
       "      <td>8</td>\n",
       "    </tr>\n",
       "    <tr>\n",
       "      <th>145</th>\n",
       "      <td>363.00</td>\n",
       "      <td>368.52</td>\n",
       "      <td>337.37</td>\n",
       "      <td>351.15</td>\n",
       "      <td>17</td>\n",
       "      <td>8</td>\n",
       "    </tr>\n",
       "    <tr>\n",
       "      <th>154</th>\n",
       "      <td>362.85</td>\n",
       "      <td>364.40</td>\n",
       "      <td>325.70</td>\n",
       "      <td>346.20</td>\n",
       "      <td>18</td>\n",
       "      <td>5</td>\n",
       "    </tr>\n",
       "    <tr>\n",
       "      <th>151</th>\n",
       "      <td>355.00</td>\n",
       "      <td>366.50</td>\n",
       "      <td>304.65</td>\n",
       "      <td>322.25</td>\n",
       "      <td>18</td>\n",
       "      <td>2</td>\n",
       "    </tr>\n",
       "    <tr>\n",
       "      <th>147</th>\n",
       "      <td>354.60</td>\n",
       "      <td>375.75</td>\n",
       "      <td>299.00</td>\n",
       "      <td>314.35</td>\n",
       "      <td>17</td>\n",
       "      <td>10</td>\n",
       "    </tr>\n",
       "    <tr>\n",
       "      <th>146</th>\n",
       "      <td>351.00</td>\n",
       "      <td>383.25</td>\n",
       "      <td>345.50</td>\n",
       "      <td>350.00</td>\n",
       "      <td>17</td>\n",
       "      <td>9</td>\n",
       "    </tr>\n",
       "    <tr>\n",
       "      <th>155</th>\n",
       "      <td>348.00</td>\n",
       "      <td>350.10</td>\n",
       "      <td>327.35</td>\n",
       "      <td>339.60</td>\n",
       "      <td>18</td>\n",
       "      <td>6</td>\n",
       "    </tr>\n",
       "    <tr>\n",
       "      <th>158</th>\n",
       "      <td>347.20</td>\n",
       "      <td>350.00</td>\n",
       "      <td>166.15</td>\n",
       "      <td>183.45</td>\n",
       "      <td>18</td>\n",
       "      <td>9</td>\n",
       "    </tr>\n",
       "    <tr>\n",
       "      <th>156</th>\n",
       "      <td>340.00</td>\n",
       "      <td>393.35</td>\n",
       "      <td>332.45</td>\n",
       "      <td>367.90</td>\n",
       "      <td>18</td>\n",
       "      <td>7</td>\n",
       "    </tr>\n",
       "    <tr>\n",
       "      <th>142</th>\n",
       "      <td>326.00</td>\n",
       "      <td>330.30</td>\n",
       "      <td>275.15</td>\n",
       "      <td>286.38</td>\n",
       "      <td>17</td>\n",
       "      <td>5</td>\n",
       "    </tr>\n",
       "  </tbody>\n",
       "</table>\n",
       "</div>"
      ],
      "text/plain": [
       "       Open    High     Low   Close  Day  Month\n",
       "157  369.95  404.00  338.00  343.40   18      8\n",
       "145  363.00  368.52  337.37  351.15   17      8\n",
       "154  362.85  364.40  325.70  346.20   18      5\n",
       "151  355.00  366.50  304.65  322.25   18      2\n",
       "147  354.60  375.75  299.00  314.35   17     10\n",
       "146  351.00  383.25  345.50  350.00   17      9\n",
       "155  348.00  350.10  327.35  339.60   18      6\n",
       "158  347.20  350.00  166.15  183.45   18      9\n",
       "156  340.00  393.35  332.45  367.90   18      7\n",
       "142  326.00  330.30  275.15  286.38   17      5"
      ]
     },
     "execution_count": 77,
     "metadata": {},
     "output_type": "execute_result"
    }
   ],
   "source": [
    "df.sort_values(by='Open', ascending=False).head(10)[\n"
   ]
  },
  {
   "cell_type": "code",
   "execution_count": 79,
   "id": "91cdb4cb-907d-47ac-b88a-1ec1e14eda8d",
   "metadata": {},
   "outputs": [
    {
     "ename": "TypeError",
     "evalue": "'method' object is not subscriptable",
     "output_type": "error",
     "traceback": [
      "\u001b[0;31m---------------------------------------------------------------------------\u001b[0m",
      "\u001b[0;31mTypeError\u001b[0m                                 Traceback (most recent call last)",
      "Cell \u001b[0;32mIn[79], line 1\u001b[0m\n\u001b[0;32m----> 1\u001b[0m df\u001b[38;5;241m.\u001b[39mgroupby[\u001b[38;5;124m'\u001b[39m\u001b[38;5;124mDay\u001b[39m\u001b[38;5;124m'\u001b[39m][\u001b[38;5;124m'\u001b[39m\u001b[38;5;124mOpen\u001b[39m\u001b[38;5;124m'\u001b[39m]\u001b[38;5;241m.\u001b[39msort_values(ascending\u001b[38;5;241m=\u001b[39m\u001b[38;5;28;01mFalse\u001b[39;00m)\u001b[38;5;241m.\u001b[39mhead(\u001b[38;5;241m10\u001b[39m)\n",
      "\u001b[0;31mTypeError\u001b[0m: 'method' object is not subscriptable"
     ]
    }
   ],
   "source": []
  },
  {
   "cell_type": "code",
   "execution_count": null,
   "id": "2651a25d-12b1-4725-a685-d5651215ceab",
   "metadata": {},
   "outputs": [],
   "source": []
  }
 ],
 "metadata": {
  "kernelspec": {
   "display_name": "anaconda-panel-2023.05-py310",
   "language": "python",
   "name": "conda-env-anaconda-panel-2023.05-py310-py"
  },
  "language_info": {
   "codemirror_mode": {
    "name": "ipython",
    "version": 3
   },
   "file_extension": ".py",
   "mimetype": "text/x-python",
   "name": "python",
   "nbconvert_exporter": "python",
   "pygments_lexer": "ipython3",
   "version": "3.11.4"
  }
 },
 "nbformat": 4,
 "nbformat_minor": 5
}
